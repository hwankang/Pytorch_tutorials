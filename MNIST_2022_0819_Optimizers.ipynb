{
  "nbformat": 4,
  "nbformat_minor": 0,
  "metadata": {
    "colab": {
      "name": "MNIST_2022_0819_Optimizers.ipynb",
      "private_outputs": true,
      "provenance": [],
      "authorship_tag": "ABX9TyNLm6O9rBz3+l6E4Cg/8Buj",
      "include_colab_link": true
    },
    "kernelspec": {
      "name": "python3",
      "display_name": "Python 3"
    },
    "language_info": {
      "name": "python"
    }
  },
  "cells": [
    {
      "cell_type": "markdown",
      "metadata": {
        "id": "view-in-github",
        "colab_type": "text"
      },
      "source": [
        "<a href=\"https://colab.research.google.com/github/hwankang/Pytorch_tutorials/blob/main/MNIST_2022_0819_Optimizers.ipynb\" target=\"_parent\"><img src=\"https://colab.research.google.com/assets/colab-badge.svg\" alt=\"Open In Colab\"/></a>"
      ]
    },
    {
      "cell_type": "code",
      "execution_count": null,
      "metadata": {
        "id": "H_TTUQPHC-RR"
      },
      "outputs": [],
      "source": [
        "import os, time\n",
        "import numpy as np\n",
        "import tensorflow as tf # version 1.14\n",
        "from tensorflow.keras.models import Sequential\n",
        "from tensorflow.keras.layers import Conv2D, MaxPooling2D, Flatten, Dense\n",
        "from tensorflow.keras.datasets import mnist\n",
        "from tensorflow.keras.callbacks import TensorBoard"
      ]
    },
    {
      "cell_type": "code",
      "source": [
        "(X_train, y_train), (X_test, y_test) = mnist.load_data()\n",
        "X_train = np.expand_dims(X_train, 3)\n",
        "X_test = np.expand_dims(X_test, 3)"
      ],
      "metadata": {
        "id": "ZQRgZlg_DTvw"
      },
      "execution_count": null,
      "outputs": []
    },
    {
      "cell_type": "code",
      "source": [
        "optimizers = [\n",
        "    'Adadelta',\n",
        "    'Adagrad',\n",
        "    'Adam',\n",
        "    'Adamax',\n",
        "    'Nadam',\n",
        "    'RMSprop',\n",
        "    'SGD'\n",
        "]\n",
        "for optimizer in optimizers:\n",
        "    model = Sequential()\n",
        "    model.add(Conv2D(16, (3,3), activation='relu', input_shape=X_train[0].shape))\n",
        "    model.add(MaxPooling2D())\n",
        "    model.add(Conv2D(16, (3,3), activation='relu'))\n",
        "    model.add(MaxPooling2D())\n",
        "    model.add(Flatten())\n",
        "    model.add(Dense(10, activation='softmax'))\n",
        "    model.compile(optimizer=optimizer, loss='sparse_categorical_crossentropy', metrics=['accuracy'])\n",
        "    tensorboard = TensorBoard(os.path.join('log_test4',f'{optimizer}_{time.time()}'))\n",
        "    model.fit(X_train, y_train, batch_size=32, epochs=5, callbacks=[tensorboard])"
      ],
      "metadata": {
        "id": "5CJ1CujtDYWH"
      },
      "execution_count": null,
      "outputs": []
    },
    {
      "cell_type": "code",
      "source": [
        "%load_ext tensorboard\n",
        "%tensorboard --logdir runs"
      ],
      "metadata": {
        "id": "KuXgEL2YGJSz"
      },
      "execution_count": null,
      "outputs": []
    }
  ]
}