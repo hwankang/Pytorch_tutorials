{
  "nbformat": 4,
  "nbformat_minor": 0,
  "metadata": {
    "colab": {
      "name": "hwankang_0818_rmsprop.ipynb",
      "private_outputs": true,
      "provenance": [],
      "authorship_tag": "ABX9TyOI+07xQJfRHEKVHqtcahsS",
      "include_colab_link": true
    },
    "kernelspec": {
      "name": "python3",
      "display_name": "Python 3"
    },
    "language_info": {
      "name": "python"
    }
  },
  "cells": [
    {
      "cell_type": "markdown",
      "metadata": {
        "id": "view-in-github",
        "colab_type": "text"
      },
      "source": [
        "<a href=\"https://colab.research.google.com/github/hwankang/Pytorch_tutorials/blob/main/hwankang_0818_rmsprop.ipynb\" target=\"_parent\"><img src=\"https://colab.research.google.com/assets/colab-badge.svg\" alt=\"Open In Colab\"/></a>"
      ]
    },
    {
      "cell_type": "code",
      "execution_count": null,
      "metadata": {
        "id": "g4R6LcOIhy6g"
      },
      "outputs": [],
      "source": [
        "%pylab inline\n",
        "import numpy as np\n",
        "import pandas as pd\n",
        "\n",
        "from sklearn.model_selection import  train_test_split\n",
        "from sklearn.preprocessing import StandardScaler\n",
        "from sklearn.metrics import accuracy_score\n",
        "from sklearn.datasets import load_iris"
      ]
    },
    {
      "cell_type": "code",
      "source": [
        "iris = load_iris()\n",
        "\n",
        "# Extract sepal length, petal length from Setosa and Versicolor\n",
        "data = iris.data[:100, [0, 2]]\n",
        "\n",
        "# Standardization\n",
        "scaler = StandardScaler()\n",
        "data = scaler.fit_transform(data)\n",
        "\n",
        "\n",
        "# Split data to test and train data\n",
        "train_x, test_x, train_y, test_y = train_test_split(data, iris.target[:100], test_size=0.3)\n",
        "\n",
        "# Plotting data\n",
        "scatter(data[:50, 0], data[:50, 1], label='Setosa')\n",
        "scatter(data[50:100, 0], data[50:100, 1], label='Versicolour')\n",
        "title('Iris Data')\n",
        "xlabel('sepal length')\n",
        "ylabel('petal length')\n",
        "grid()\n",
        "legend()"
      ],
      "metadata": {
        "id": "gHDSuNJrh832"
      },
      "execution_count": null,
      "outputs": []
    },
    {
      "cell_type": "code",
      "source": [
        ""
      ],
      "metadata": {
        "id": "hpaGRLN1iDLt"
      },
      "execution_count": null,
      "outputs": []
    },
    {
      "cell_type": "code",
      "source": [
        "w =   np.array([ 0.09370901, -0.24480254, -0.84210235]) # np.random.randn(2 + 1)\n",
        "\n",
        "def predict(w, x):\n",
        "    N = len(x)\n",
        "    yhat = w[1:].dot(x.T) + w[0]\n",
        "    return yhat\n",
        "\n",
        "def rmsprop_nn(w, X, Y, eta=0.001, decay=0.001, epoch=4, weight_size=2):\n",
        "    \"\"\"\n",
        "    @param eta <float>: learning rate\n",
        "    \"\"\"\n",
        "    N = len(X)\n",
        "    e = 1e-8\n",
        "\n",
        "    Eg = np.zeros(weight_size + 1)  # E[g^2]\n",
        "\n",
        "    for i in range(N):\n",
        "        x = X[i]\n",
        "        y = Y[i]\n",
        "        x = x.reshape((-1, 2))\n",
        "        yhat = predict(w, x)\n",
        "\n",
        "        # Calculate the gradients\n",
        "        gradient_w = 2/N*-(y-yhat).dot(x)\n",
        "        gradient_b = 2/N*-(y-yhat)\n",
        "\n",
        "        # Accumulate Gradient\n",
        "        Eg[1:] = decay * Eg[1:] + (1-decay) * gradient_w**2\n",
        "        Eg[0]  = decay * Eg[0] + (1-decay) * gradient_b**2\n",
        "\n",
        "        # Compute Update\n",
        "        delta_w = - eta/np.sqrt(e + Eg[1:]) * gradient_w\n",
        "        delta_b = - eta/np.sqrt(e + Eg[0]) * gradient_b\n",
        "\n",
        "        w[1:] = w[1:] + delta_w\n",
        "        w[0] = w[0] + delta_b\n",
        "\n",
        "    return w\n",
        "\n",
        "\n",
        "for i in range(90):\n",
        "    w = rmsprop_nn(w, train_x, train_y)\n",
        "\n",
        "    # Accuracy Test\n",
        "    yhats = predict(w, test_x)\n",
        "    yhats = np.where(yhats >= 0.5, 1, 0)\n",
        "    accuracy = round(accuracy_score(test_y, yhats), 2)\n",
        "    print(f'[{i:2}] Accuracy: {accuracy:<4.2}')"
      ],
      "metadata": {
        "id": "v9tlCHDeiIyn"
      },
      "execution_count": null,
      "outputs": []
    },
    {
      "cell_type": "code",
      "source": [
        "import matplotlib.pyplot  as plt\n",
        "iris = load_iris()\n",
        "\n",
        "# setosa_x = iris.data[:50]\n",
        "# setosa_y = iris.target[:50]\n",
        "# versicolor_x = iris.data[50:100]\n",
        "# versicolor_y = iris.target[50:100]\n",
        "# scatter(setosa_x[:, 0], setosa_x[:, 2])\n",
        "# scatter(versicolor_x[:, 0], versicolor_x[:, 2])\n",
        "\n",
        "# Extract sepal length, petal length from Setosa and Versicolor\n",
        "data = iris.data[:100, [0, 2]]\n",
        "\n",
        "# Standardization\n",
        "scaler = StandardScaler()\n",
        "data = scaler.fit_transform(data)\n",
        "\n",
        "\n",
        "# Split data to test and train data\n",
        "train_x, test_x, train_y, test_y = train_test_split(data, iris.target[:100], test_size=0.3)\n",
        "\n",
        "# Plotting data\n",
        "plt.figure(1)\n",
        "scatter(data[:50, 0], data[:50, 1], label='Setosa')\n",
        "scatter(data[50:100, 0], data[50:100, 1], label='Versicolour')\n",
        "title('Iris Data')\n",
        "xlabel('sepal length')\n",
        "ylabel('petal length')\n",
        "grid()\n",
        "legend()\n",
        "\n",
        "\n",
        "#SGD with Adam\n",
        "w =   np.array([ 0.09370901, -0.24480254, -0.84210235]) # np.random.randn(2 + 1)\n",
        "\n",
        "def predict(w, x):\n",
        "    N = len(x)\n",
        "    yhat = w[1:].dot(x.T) + w[0]\n",
        "    return yhat\n",
        "\n",
        "def rmsprop_nn(w, X, Y, eta=0.001, decay=0.001, epoch=4, weight_size=2):\n",
        "    \"\"\"\n",
        "    @param eta <float>: learning rate\n",
        "    \"\"\"\n",
        "    N = len(X)\n",
        "    e = 1e-8\n",
        "\n",
        "    Eg = np.zeros(weight_size + 1)  # E[g^2]\n",
        "\n",
        "    for i in range(N):\n",
        "        x = X[i]\n",
        "        y = Y[i]\n",
        "        x = x.reshape((-1, 2))\n",
        "        yhat = predict(w, x)\n",
        "\n",
        "        # Calculate the gradients\n",
        "        gradient_w = 2/N*-(y-yhat).dot(x)\n",
        "        gradient_b = 2/N*-(y-yhat)\n",
        "\n",
        "        # Accumulate Gradient\n",
        "        Eg[1:] = decay * Eg[1:] + (1-decay) * gradient_w**2\n",
        "        Eg[0]  = decay * Eg[0] + (1-decay) * gradient_b**2\n",
        "\n",
        "        # Compute Update\n",
        "        delta_w = - eta/np.sqrt(e + Eg[1:]) * gradient_w\n",
        "        delta_b = - eta/np.sqrt(e + Eg[0]) * gradient_b\n",
        "\n",
        "        w[1:] = w[1:] + delta_w\n",
        "        w[0] = w[0] + delta_b\n",
        "\n",
        "    return w\n",
        "accu_ar=[]\n",
        "for i in range(50):\n",
        "    w = rmsprop_nn(w, train_x, train_y)\n",
        "\n",
        "    # Accuracy Test\n",
        "    yhats = predict(w, test_x)\n",
        "    yhats = np.where(yhats >= 0.5, 1, 0)\n",
        "    accuracy = round(accuracy_score(test_y, yhats), 2)\n",
        "    accu_ar.append(accuracy)\n",
        "    print(f'[{i:2}] Accuracy: {accuracy:<4.2}')\n",
        "plt.figure(2)\n",
        "plt.title(\"rmsprop\")\n",
        "plt.xlabel(\"Step\")\n",
        "plt.ylabel(\"Accuracy\")\n",
        "plt,plot(accu_ar, color='blue',label='rmsprop', marker='o')\n",
        "plt.legend(loc='lower righr')\n",
        "grid()\n",
        "plt.show()"
      ],
      "metadata": {
        "id": "lUKoNxGpBt3o"
      },
      "execution_count": null,
      "outputs": []
    }
  ]
}