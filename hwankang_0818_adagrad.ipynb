{
  "nbformat": 4,
  "nbformat_minor": 0,
  "metadata": {
    "colab": {
      "name": "hwankang_0818_adagrad.ipynb",
      "private_outputs": true,
      "provenance": [],
      "authorship_tag": "ABX9TyPEL32GZaoygvjtQsXxba6Y",
      "include_colab_link": true
    },
    "kernelspec": {
      "name": "python3",
      "display_name": "Python 3"
    },
    "language_info": {
      "name": "python"
    }
  },
  "cells": [
    {
      "cell_type": "markdown",
      "metadata": {
        "id": "view-in-github",
        "colab_type": "text"
      },
      "source": [
        "<a href=\"https://colab.research.google.com/github/hwankang/Pytorch_tutorials/blob/main/hwankang_0818_adagrad.ipynb\" target=\"_parent\"><img src=\"https://colab.research.google.com/assets/colab-badge.svg\" alt=\"Open In Colab\"/></a>"
      ]
    },
    {
      "cell_type": "code",
      "source": [
        "%pylab inline\n",
        "import numpy as np\n",
        "import pandas as pd\n",
        "\n",
        "from sklearn.model_selection import  train_test_split\n",
        "from sklearn.preprocessing import StandardScaler\n",
        "from sklearn.metrics import accuracy_score\n",
        "from sklearn.datasets import load_iris"
      ],
      "metadata": {
        "id": "K4xUoiaXq7cH"
      },
      "execution_count": null,
      "outputs": []
    },
    {
      "cell_type": "code",
      "source": [
        "iris = load_iris()\n",
        "\n",
        "# Extract sepal length, petal length from Setosa and Versicolor\n",
        "data = iris.data[:100, [0, 2]]\n",
        "\n",
        "# Standardization\n",
        "scaler = StandardScaler()\n",
        "data = scaler.fit_transform(data)\n",
        "\n",
        "# Split data to test and train data\n",
        "train_x, test_x, train_y, test_y = train_test_split(data, iris.target[:100].reshape((-1, 1)), test_size=0.3)\n",
        "\n",
        "print('train_x:', train_x.shape)\n",
        "print('train_y:', train_y.shape)\n",
        "print('test_x:', test_x.shape)\n",
        "print('test_y:', test_y.shape)\n",
        "\n",
        "# Plotting data\n",
        "scatter(data[:50, 0], data[:50, 1], label='Setosa')\n",
        "scatter(data[50:100, 0], data[50:100, 1], label='Versicolour')\n",
        "title('Iris Data')\n",
        "xlabel('sepal length')\n",
        "ylabel('petal length')\n",
        "grid()\n",
        "legend()"
      ],
      "metadata": {
        "id": "W2zNHINGrAEk"
      },
      "execution_count": null,
      "outputs": []
    },
    {
      "cell_type": "code",
      "source": [
        ""
      ],
      "metadata": {
        "id": "PaS2m_a6rKxx"
      },
      "execution_count": null,
      "outputs": []
    },
    {
      "cell_type": "code",
      "source": [
        "w = np.array([ 0.09370901, -0.24480254, -0.84210235]) # np.random.randn(2 + 1)\n",
        "import matplotlib.pyplot  as plt\n",
        "def predict(w, x):\n",
        "    N = len(x)\n",
        "    yhat = w[1:].dot(x.T) + w[0]\n",
        "    yhat = yhat.reshape(-1)\n",
        "    return yhat\n",
        "\n",
        "\n",
        "def  adagrad_nn2(w, X, Y, eta=0.01, acmu_size=1):\n",
        "    \"\"\"\n",
        "    @param eta <float>: learning rate\n",
        "    @param acmu_size <int>: the size of the accumulation of the squred of the gradients with regard to theta\n",
        "    \"\"\"\n",
        "    N = len(X)\n",
        "    e = 1e-8\n",
        "    G = np.zeros_like(w)\n",
        "\n",
        "    i = 0\n",
        "    for i in range(N):\n",
        "        x = X[i]\n",
        "        y = Y[i]\n",
        "        x = x.reshape((-1, 2))\n",
        "        yhat = predict(w, x)\n",
        "        delta = y - yhat\n",
        "\n",
        "        # Calculate the gradients\n",
        "        gradient_w = 2/N*-delta.dot(x)\n",
        "        gradient_b = 2/N*-delta\n",
        "\n",
        "        G[1:] += gradient_w * gradient_w\n",
        "        G[0] += gradient_b * gradient_b\n",
        "        delta_w = eta/(e + np.sqrt(G[1:])) * gradient_w\n",
        "        delta_b = eta/(e + np.sqrt(G[0])) * gradient_b\n",
        "        w[1:] = w[1:] - delta_w\n",
        "        w[0] = w[0] - delta_b\n",
        "\n",
        "        if np.linalg.norm(w) < 1e-3:\n",
        "            break\n",
        "    return w\n",
        "accu_ar=[]\n",
        "for i in range(50):\n",
        "    w = adagrad_nn2(w, train_x, train_y)\n",
        "    yhats = predict(w, test_x)\n",
        "    yhats = np.where(yhats >= 0.5, 1, 0)\n",
        "    accuracy = accuracy_score(test_y, yhats)\n",
        "    accu_ar.append(accuracy)\n",
        "    print('Accuracy:', round(accuracy, 2), '\\t\\tweights:', w)\n",
        "plt.figure(2)\n",
        "plt.title(\"adagrad\")\n",
        "plt.xlabel(\"Step\")\n",
        "plt.ylabel(\"Accuracy\")\n",
        "plt,plot(accu_ar, color='blue',label='adagrad', marker='o')\n",
        "plt.legend(loc='lower righr')\n",
        "grid()\n",
        "plt.show()"
      ],
      "metadata": {
        "id": "O7lRwAGWrUlq"
      },
      "execution_count": null,
      "outputs": []
    }
  ]
}