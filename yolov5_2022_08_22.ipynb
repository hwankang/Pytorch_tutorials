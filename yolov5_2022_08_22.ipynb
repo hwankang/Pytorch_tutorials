{
  "nbformat": 4,
  "nbformat_minor": 0,
  "metadata": {
    "colab": {
      "name": "yolov5_2022_08_22.ipynb",
      "private_outputs": true,
      "provenance": [],
      "authorship_tag": "ABX9TyN/XJJrM2DQP1wR2woYAwO2",
      "include_colab_link": true
    },
    "kernelspec": {
      "name": "python3",
      "display_name": "Python 3"
    },
    "language_info": {
      "name": "python"
    },
    "accelerator": "GPU",
    "gpuClass": "standard"
  },
  "cells": [
    {
      "cell_type": "markdown",
      "metadata": {
        "id": "view-in-github",
        "colab_type": "text"
      },
      "source": [
        "<a href=\"https://colab.research.google.com/github/hwankang/Pytorch_tutorials/blob/main/yolov5_2022_08_22.ipynb\" target=\"_parent\"><img src=\"https://colab.research.google.com/assets/colab-badge.svg\" alt=\"Open In Colab\"/></a>"
      ]
    },
    {
      "cell_type": "code",
      "execution_count": null,
      "metadata": {
        "id": "BAfvOdA8OXxd"
      },
      "outputs": [],
      "source": [
        "%cd /content\n",
        "!git clone http://github.com/ultralytics/yolov5\n",
        "%cd yolov5\n",
        "%pip install -qrrequirements.txt\n",
        "\n",
        "import torch \n",
        "!pip install IPython.display\n",
        "from IPython.display import image, clear_output"
      ]
    },
    {
      "cell_type": "code",
      "source": [
        ""
      ],
      "metadata": {
        "id": "IU6QLUyAPrJs"
      },
      "execution_count": null,
      "outputs": []
    },
    {
      "cell_type": "code",
      "source": [
        "!ls data/images"
      ],
      "metadata": {
        "id": "2AX59DkEPG6i"
      },
      "execution_count": null,
      "outputs": []
    },
    {
      "cell_type": "code",
      "source": [
        "image(filename='data_images/bus.jpg', width=300)"
      ],
      "metadata": {
        "id": "95XCUaMoPh73"
      },
      "execution_count": null,
      "outputs": []
    },
    {
      "cell_type": "code",
      "source": [
        ""
      ],
      "metadata": {
        "id": "R7NqqNsTP3me"
      },
      "execution_count": null,
      "outputs": []
    }
  ]
}