{
  "nbformat": 4,
  "nbformat_minor": 0,
  "metadata": {
    "colab": {
      "name": "hwankang_0818_adadelta.ipynb",
      "private_outputs": true,
      "provenance": [],
      "authorship_tag": "ABX9TyORIpbO9dLjThZYupfyfAnq",
      "include_colab_link": true
    },
    "kernelspec": {
      "name": "python3",
      "display_name": "Python 3"
    },
    "language_info": {
      "name": "python"
    }
  },
  "cells": [
    {
      "cell_type": "markdown",
      "metadata": {
        "id": "view-in-github",
        "colab_type": "text"
      },
      "source": [
        "<a href=\"https://colab.research.google.com/github/hwankang/Pytorch_tutorials/blob/main/hwankang_0818_adadelta.ipynb\" target=\"_parent\"><img src=\"https://colab.research.google.com/assets/colab-badge.svg\" alt=\"Open In Colab\"/></a>"
      ]
    },
    {
      "cell_type": "code",
      "execution_count": null,
      "metadata": {
        "id": "TDYdNMDd0-G5"
      },
      "outputs": [],
      "source": [
        "%pylab inline\n",
        "import numpy as np\n",
        "import pandas as pd\n",
        "\n",
        "from sklearn.model_selection import  train_test_split\n",
        "from sklearn.preprocessing import StandardScaler\n",
        "from sklearn.metrics import accuracy_score\n",
        "from sklearn.datasets import load_iris"
      ]
    },
    {
      "cell_type": "code",
      "source": [
        "iris = load_iris()\n",
        "\n",
        "# setosa_x = iris.data[:50]\n",
        "# setosa_y = iris.target[:50]\n",
        "# versicolor_x = iris.data[50:100]\n",
        "# versicolor_y = iris.target[50:100]\n",
        "# scatter(setosa_x[:, 0], setosa_x[:, 2])\n",
        "# scatter(versicolor_x[:, 0], versicolor_x[:, 2])\n",
        "\n",
        "# Extract sepal length, petal length from Setosa and Versicolor\n",
        "data = iris.data[:100, [0, 2]]\n",
        "\n",
        "# Standardization\n",
        "scaler = StandardScaler()\n",
        "data = scaler.fit_transform(data)\n",
        "\n",
        "\n",
        "# Split data to test and train data\n",
        "train_x, test_x, train_y, test_y = train_test_split(data, iris.target[:100], test_size=0.3)\n",
        "\n",
        "# Plotting data\n",
        "scatter(data[:50, 0], data[:50, 1], label='Setosa')\n",
        "scatter(data[50:100, 0], data[50:100, 1], label='Versicolour')\n",
        "title('Iris Data')\n",
        "xlabel('sepal length')\n",
        "ylabel('petal length')\n",
        "grid()\n",
        "legend()"
      ],
      "metadata": {
        "id": "gmkUs9Da1IC0"
      },
      "execution_count": null,
      "outputs": []
    },
    {
      "cell_type": "code",
      "source": [
        "w =   np.array([ 0.09370901, -0.24480254, -0.84210235]) # np.random.randn(2 + 1)\n",
        "\n",
        "def predict(w, x):\n",
        "    N = len(x)\n",
        "    yhat = w[1:].dot(x.T) + w[0]\n",
        "    return yhat\n",
        "\n",
        "def  adadelta_nn(w, X, Y, decay=0.2, epoch=4, weight_size=2):\n",
        "    \"\"\"\n",
        "    @param eta <float>: learning rate\n",
        "    \"\"\"\n",
        "    N = len(X)\n",
        "    e = 1e-8\n",
        "\n",
        "    Eg = np.zeros(weight_size + 1)  # E[g^2]\n",
        "    Ed = np.zeros(weight_size + 1)  # E[\\Delta w^2]\n",
        "\n",
        "    i = 0\n",
        "    for _ in range(epoch):\n",
        "        for _ in range(N):\n",
        "            x = X[i]\n",
        "            y = Y[i]\n",
        "            x = x.reshape((-1, 2))\n",
        "            yhat = predict(w, x)\n",
        "\n",
        "            # Calculate the gradients\n",
        "            gradient_w = 2/N*-(y-yhat).dot(x)\n",
        "            gradient_b = 2/N*-(y-yhat)\n",
        "\n",
        "            # Accumulate Gradient\n",
        "            Eg[1:] = decay * Eg[1:] + (1-decay) * gradient_w**2\n",
        "            Eg[0]  = decay * Eg[0] + (1-decay) * gradient_b**2\n",
        "\n",
        "            # Compute Update\n",
        "            delta_w = - np.sqrt(e + Ed[1:])/np.sqrt(e + Eg[1:]) * gradient_w\n",
        "            delta_b = - np.sqrt(e + Ed[0])/np.sqrt(e + Eg[0]) * gradient_b\n",
        "\n",
        "            # Accumulate Updates\n",
        "            Ed[1:] = decay * Ed[1:] + (1-decay) * delta_w**2\n",
        "            Ed[0]  = decay * Ed[0]  + (1-decay) * delta_b**2\n",
        "\n",
        "            w[1:] = w[1:] + delta_w\n",
        "            w[0] = w[0] + delta_b\n",
        "\n",
        "            i += 1\n",
        "            if i >= N:\n",
        "                i = 0\n",
        "\n",
        "    return w\n",
        "\n",
        "\n",
        "for _ in range(45):\n",
        "    w = adadelta_nn(w, train_x, train_y)\n",
        "\n",
        "    # Accuracy Test\n",
        "    yhats = predict(w, test_x)\n",
        "    yhats = np.where(yhats >= 0.5, 1, 0)\n",
        "    accuracy = accuracy_score(test_y, yhats)\n",
        "    print('Accuracy:', round(accuracy, 2), '\\t\\tweights:', w)"
      ],
      "metadata": {
        "id": "fzMjU2hq1PqM"
      },
      "execution_count": null,
      "outputs": []
    },
    {
      "cell_type": "code",
      "source": [
        "w_w = 2/5*-(6-4)\n",
        "w_w"
      ],
      "metadata": {
        "id": "S0jFhYrCbFXD"
      },
      "execution_count": null,
      "outputs": []
    }
  ]
}