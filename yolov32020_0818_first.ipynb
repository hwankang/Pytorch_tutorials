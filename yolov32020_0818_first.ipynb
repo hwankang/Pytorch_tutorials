{
  "nbformat": 4,
  "nbformat_minor": 0,
  "metadata": {
    "colab": {
      "name": "yolov32020_0818_first.ipynb",
      "private_outputs": true,
      "provenance": [],
      "authorship_tag": "ABX9TyMzZibeGnj3c3FriQgOEu+G",
      "include_colab_link": true
    },
    "kernelspec": {
      "name": "python3",
      "display_name": "Python 3"
    },
    "language_info": {
      "name": "python"
    },
    "accelerator": "GPU",
    "gpuClass": "standard"
  },
  "cells": [
    {
      "cell_type": "markdown",
      "metadata": {
        "id": "view-in-github",
        "colab_type": "text"
      },
      "source": [
        "<a href=\"https://colab.research.google.com/github/hwankang/Pytorch_tutorials/blob/main/yolov32020_0818_first.ipynb\" target=\"_parent\"><img src=\"https://colab.research.google.com/assets/colab-badge.svg\" alt=\"Open In Colab\"/></a>"
      ]
    },
    {
      "cell_type": "code",
      "execution_count": null,
      "metadata": {
        "id": "ajY5i5lAWouY"
      },
      "outputs": [],
      "source": [
        "!pip uninstall -y tensorflow keras"
      ]
    },
    {
      "cell_type": "code",
      "source": [
        "!git clone https://github.com/zzh8829/yolov3-tf2\n",
        "%cd yolov3-tf2/\n",
        "!pip install -r requirements-gpu.txt\n",
        "!pip install keras==2.4.2"
      ],
      "metadata": {
        "id": "IUnjFdygW3u5"
      },
      "execution_count": null,
      "outputs": []
    },
    {
      "cell_type": "markdown",
      "source": [
        "#  파일 변환 \n",
        "Darknet의 모델파일을 Keras에서 사용할 수 있는 모델 파일로 변환 "
      ],
      "metadata": {
        "id": "TlMhhEucaej7"
      }
    },
    {
      "cell_type": "markdown",
      "source": [
        "\n",
        "\n",
        "*   convert.py:변환 실행 파일 \n",
        "*   yolo3.weight:Darknet으로 학습된 모델파일 \n",
        "*   yolov3.tf:Keras Yolov3 모델\n",
        "\n"
      ],
      "metadata": {
        "id": "qdcsWHgxeksF"
      }
    },
    {
      "cell_type": "code",
      "source": [
        "!wget https://pjreddie.com/media/files/yolov3.weights -O data/yolov3.weights\n",
        "!python convert.py --weights ./data/yolov3.weights --output ./checkpoints/yolov3.tf"
      ],
      "metadata": {
        "id": "nd7jhb01ac3K"
      },
      "execution_count": null,
      "outputs": []
    },
    {
      "cell_type": "markdown",
      "source": [
        "# Detector"
      ],
      "metadata": {
        "id": "onvVSjorfyTF"
      }
    },
    {
      "cell_type": "code",
      "source": [
        "!pip install IPython.display\n",
        "import time\n",
        "import cv2\n",
        "import numpy as np \n",
        "import tensorflow as tf \n",
        "\n",
        "from yolov3_tf2.models import YoloV3\n",
        "from yolov3_tf2.dataset import transform_images, load_tfrecord_dataset\n",
        "from yolov3_tf2.utils import draw_outputs\n",
        "from absl import app, logging, flags\n",
        "from absl.flags import FLAGS\n",
        "\n",
        "from keras.preprocessing import image\n",
        "import matplotlib.pyplot as plt \n",
        "from IPython.display import image, display"
      ],
      "metadata": {
        "id": "brAB7UUTf2rZ"
      },
      "execution_count": null,
      "outputs": []
    }
  ]
}